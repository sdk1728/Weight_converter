{
 "cells": [
  {
   "cell_type": "code",
   "execution_count": 11,
   "id": "5720d5a8",
   "metadata": {},
   "outputs": [
    {
     "name": "stdout",
     "output_type": "stream",
     "text": [
      "\t\t\tSelect the unit\n",
      "       1.Kg\n",
      "       2.Lbs\n",
      "\n",
      "2\n",
      "\t\t\tWeight is in Lbs\n",
      "Enter the amount of weight:220.21\n",
      "The given weight in Kg is:99.82320942883047\n"
     ]
    }
   ],
   "source": [
    "print(\"\"\"\\t\\t\\tSelect the unit\n",
    "       1.Kg\n",
    "       2.Lbs\n",
    "\"\"\")\n",
    "\n",
    "unit=int(input())\n",
    "\n",
    "if unit==1:\n",
    "    print('\\t\\t\\tWeight is in Kg')\n",
    "    kg=float(input(\"Enter the amount of weight:\"))\n",
    "    lbs=kg*2.206\n",
    "    print(\"The given weight in Lbs is:\", lbs)\n",
    "    \n",
    "elif unit==2:\n",
    "    print(\"\\t\\t\\tWeight is in Lbs\")\n",
    "    lbs=float(input('Enter the amount of weight:'))\n",
    "    kg=lbs/2.206\n",
    "    print(f\"The given weight in Kg is:{kg}\")\n",
    "    "
   ]
  },
  {
   "cell_type": "code",
   "execution_count": null,
   "id": "3d800d06",
   "metadata": {},
   "outputs": [],
   "source": []
  },
  {
   "cell_type": "code",
   "execution_count": null,
   "id": "194a69be",
   "metadata": {},
   "outputs": [],
   "source": []
  },
  {
   "cell_type": "code",
   "execution_count": null,
   "id": "4cf3bb29",
   "metadata": {},
   "outputs": [],
   "source": []
  },
  {
   "cell_type": "code",
   "execution_count": null,
   "id": "9040a29a",
   "metadata": {},
   "outputs": [],
   "source": []
  }
 ],
 "metadata": {
  "kernelspec": {
   "display_name": "Python 3 (ipykernel)",
   "language": "python",
   "name": "python3"
  },
  "language_info": {
   "codemirror_mode": {
    "name": "ipython",
    "version": 3
   },
   "file_extension": ".py",
   "mimetype": "text/x-python",
   "name": "python",
   "nbconvert_exporter": "python",
   "pygments_lexer": "ipython3",
   "version": "3.9.7"
  }
 },
 "nbformat": 4,
 "nbformat_minor": 5
}
